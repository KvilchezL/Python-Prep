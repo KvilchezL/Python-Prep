{
 "cells": [
  {
   "attachments": {},
   "cell_type": "markdown",
   "metadata": {},
   "source": [
    "## Clases y Programación Orientada a Objetos"
   ]
  },
  {
   "attachments": {},
   "cell_type": "markdown",
   "metadata": {},
   "source": [
    "1) Crear la clase vehículo que contenga los atributos:<br>\n",
    "Color<br>\n",
    "Si es moto, auto, camioneta ó camión<br>\n",
    "Cilindrada del motor"
   ]
  },
  {
   "cell_type": "code",
   "execution_count": 1,
   "metadata": {},
   "outputs": [],
   "source": [
    "class vehiculo:\n",
    "    def __init__(self, color, tipo, cilindrada):\n",
    "        self.color = color\n",
    "        self.tipo = tipo\n",
    "        self.cilindrada = cilindrada\n",
    "        "
   ]
  },
  {
   "attachments": {},
   "cell_type": "markdown",
   "metadata": {},
   "source": [
    "2) A la clase Vehiculo creada en el punto 1, agregar los siguientes métodos:<br>\n",
    "Acelerar<br>\n",
    "Frenar<br>\n",
    "Doblar<br>"
   ]
  },
  {
   "cell_type": "code",
   "execution_count": 7,
   "metadata": {},
   "outputs": [],
   "source": [
    "class vehiculo:\n",
    "    def __init__(self, color, tipo, cilindrada):\n",
    "        self.color = color\n",
    "        self.tipo = tipo\n",
    "        self.cilindrada = cilindrada\n",
    "        self.velocidad = 0\n",
    "        self.giro = 0\n",
    "        \n",
    "    def Acelerar(self,vel):             # se crea el metodo acelerar\n",
    "        self.velocidad += vel           # aumenta el valor 'vel' a la velocidad\n",
    "        \n",
    "    def frenar(self,vel):               # se crea el metodo frenar\n",
    "        self.velocidad -= vel           # disminuye el valor 'vel' a la velocidad\n",
    "        \n",
    "    def doblar(self,grados):            # se crea el metodo doblar o girar\n",
    "        self.giro += grados            # cambia el valor 'grados' al valor de giro\n",
    "        "
   ]
  },
  {
   "attachments": {},
   "cell_type": "markdown",
   "metadata": {},
   "source": [
    "3) Instanciar 3 objetos de la clase vehículo y ejecutar sus métodos, probar luego el resultado"
   ]
  },
  {
   "cell_type": "code",
   "execution_count": 8,
   "metadata": {},
   "outputs": [],
   "source": [
    "vehi_1 = vehiculo('amarillo', 'auto', 4)    # se crea el vehiculo auto\n",
    "vehi_2 = vehiculo('rojo', 'camion', 8)      # se crea el vehiculo camion\n",
    "vehi_3 = vehiculo('blanco', 'moto', 2)         # se crea el vehiculo moto"
   ]
  },
  {
   "cell_type": "code",
   "execution_count": 9,
   "metadata": {},
   "outputs": [],
   "source": [
    "vehi_1.Acelerar(90)     # se aumenta el valor de la velocidad en 90 del vehiculo 1\n",
    "vehi_2.Acelerar(90)     # se aumenta el valor de la velocidad en 90 del vehiculo 2\n",
    "vehi_3.Acelerar(90)     # se aumenta el valor de la velocidad en 90 del vehiculo 3\n",
    "\n",
    "vehi_1.frenar(-50)     # se disminuye el valor de la velocidad en 50 del vehiculo 1\n",
    "vehi_2.frenar(-50)     # se disminuye el valor de la velocidad en 50 del vehiculo 2\n",
    "vehi_3.frenar(-50)     # se disminuye el valor de la velocidad en 50 del vehiculo 3\n",
    "\n",
    "vehi_1.doblar(90)     # se cambia el valor del giro en 90 grados del vehiculo 1\n",
    "vehi_2.doblar(90)     # se cambia el valor del giro en 90 grados del vehiculo 2\n",
    "vehi_3.doblar(90)     # se cambia el valor del giro en 90 grados del vehiculo 3"
   ]
  },
  {
   "attachments": {},
   "cell_type": "markdown",
   "metadata": {},
   "source": [
    "4) Agregar a la clase Vehiculo, un método que muestre su estado, es decir, a que velocidad se encuentra y su dirección. Y otro método que muestre color, tipo y cilindrada"
   ]
  },
  {
   "cell_type": "code",
   "execution_count": 10,
   "metadata": {},
   "outputs": [],
   "source": [
    "class vehiculo:\n",
    "    def __init__(self, color, tipo, cilindrada):\n",
    "        self.color = color\n",
    "        self.tipo = tipo\n",
    "        self.cilindrada = cilindrada\n",
    "        self.velocidad = 0\n",
    "        self.giro = 0\n",
    "        \n",
    "    def Acelerar(self,vel):             # se crea el metodo acelerar\n",
    "        self.velocidad += vel           # aumenta el valor 'vel' a la velocidad\n",
    "        \n",
    "    def frenar(self,vel):               # se crea el metodo frenar\n",
    "        self.velocidad -= vel           # disminuye el valor 'vel' a la velocidad\n",
    "        \n",
    "    def doblar(self,grados):            # se crea el metodo doblar o girar\n",
    "        self.giro += grados             # cambia el valor 'grados' al valor de giro\n",
    "    \n",
    "    def estado(self):                   # se mostrara la velocidad y el giro del vehiculo\n",
    "        print('Voy a ',self.velocidad,' km/h y con dirección de ',self.giro,' grados.')\n",
    "    \n",
    "    def estado(self):                   # se mostrara el color, tipo y cilindrada del vehiculo\n",
    "        print('Soy un(a) ',self.tipo,' de color ',self.color,' con cilindrada de ', self.cilindrada,'.')"
   ]
  },
  {
   "attachments": {},
   "cell_type": "markdown",
   "metadata": {},
   "source": [
    "5) Crear una clase que permita utilizar las funciones creadas en la práctica del módulo 7<br>\n",
    "Verificar Primo<br>\n",
    "Valor modal<br>\n",
    "Conversión grados<br>\n",
    "Factorial<br>"
   ]
  },
  {
   "cell_type": "code",
   "execution_count": 8,
   "metadata": {},
   "outputs": [],
   "source": [
    "class Op_Mates:\n",
    "    def __init__(self,numero,lista,grados):\n",
    "        self.numero = numero\n",
    "        self.lista = lista\n",
    "        self.grados = grados\n",
    "        \n",
    "    def hallar_primo(self):\n",
    "        primo=True\n",
    "        for i in range(2,self.numero):\n",
    "            if self.numero % i == 0:\n",
    "                primo=False\n",
    "                break\n",
    "        return primo\n",
    "    \n",
    "    def moda(self):\n",
    "        frecuencia = {}\n",
    "        for i in self.lista:\n",
    "            if i in frecuencia:\n",
    "                frecuencia[i] += 1\n",
    "            else:\n",
    "                frecuencia[i] = 1\n",
    "            \n",
    "        mas_repetido = None\n",
    "        rep = 0\n",
    "\n",
    "        for i, frecuencia in frecuencia.items():\n",
    "            if frecuencia > rep:\n",
    "                mas_repetido = i\n",
    "                rep = frecuencia\n",
    "            \n",
    "        return mas_repetido, rep\n",
    "    \n",
    "    def conv_grados(self, medidai, medidaf):\n",
    "        self.medidai = medidai\n",
    "        self.medidaf = medidaf\n",
    "        if (self.medidai == 'c' or self.medidai == 'C') and (self.medidaf == 'f' or self.medidaf == 'F'):\n",
    "            GC = (self.grados * 9/5) + 32\n",
    "        elif (self.medidai == 'c' or self.medidai == 'C') and (self.medidaf == 'k' or self.medidaf == 'K'):\n",
    "            GC = self.grados + 273.15\n",
    "        elif (self.medidai == 'f' or self.medidai == 'F') and (self.medidaf == 'c' or self.medidaf == 'C'):\n",
    "            GC = (self.grados - 32) * 5/9\n",
    "        elif (self.medidai == 'k' or self.medidai == 'K') and (self.medidaf == 'c' or self.medidaf == 'C'):\n",
    "            GC = self.grados - 273.15\n",
    "        return GC\n",
    "    \n",
    "    def factorial(self,numero):\n",
    "        self.numero = numero\n",
    "        if type(self.numero) == int:\n",
    "        \n",
    "            if (self.numero < 0):\n",
    "                return 'Inválido!, ingrese solo números positivos'\n",
    "            if (self.numero <= 1):\n",
    "                return 1\n",
    "                    \n",
    "            fact = self.numero * self.factorial(self.numero - 1)\n",
    "            return fact\n",
    "        else:\n",
    "            return 'Inválido!, ingrese solo números enteros'\n",
    "        \n",
    "    \n"
   ]
  },
  {
   "attachments": {},
   "cell_type": "markdown",
   "metadata": {},
   "source": [
    "6) Probar las funciones incorporadas en la clase del punto 5"
   ]
  },
  {
   "cell_type": "code",
   "execution_count": 9,
   "metadata": {},
   "outputs": [
    {
     "name": "stdout",
     "output_type": "stream",
     "text": [
      "True\n",
      "(5, 4)\n",
      "373.15 K\n",
      "720\n"
     ]
    }
   ],
   "source": [
    "matematica = Op_Mates(5,[1,1,2,3,4,5,5,5,5,6,6,6,8,8,8,7,9,4],100)\n",
    "print(matematica.hallar_primo())\n",
    "print(matematica.moda())\n",
    "print(matematica.conv_grados('c','k'),'K')\n",
    "print(matematica.factorial(6))"
   ]
  },
  {
   "attachments": {},
   "cell_type": "markdown",
   "metadata": {},
   "source": [
    "7) Es necesario que la clase creada en el punto 5 contenga una lista, sobre la cual se apliquen las funciones incorporadas"
   ]
  },
  {
   "cell_type": "code",
   "execution_count": 61,
   "metadata": {},
   "outputs": [],
   "source": [
    "class Op_Mates:\n",
    "    def __init__(self, lista):\n",
    "        self.lista = lista\n",
    "\n",
    "    def hallar_primo(self):\n",
    "        for i in self.lista:\n",
    "            if self.__hallar_primo(i):\n",
    "                print('El elemento', i, 'SI es un numero primo')\n",
    "            else:\n",
    "                print('El elemento', i, 'NO es un numero primo')\n",
    "    \n",
    "    def conv_grados(self, medidai, medidaf):\n",
    "        for i in self.lista:\n",
    "            print(i, '°', medidai, 'son', self.__conv_grados(i, medidai, medidaf), '°', medidaf)\n",
    "\n",
    "    def factorial(self):\n",
    "        for i in self.lista:\n",
    "            print('El factorial de', i, 'es', self.__factorial(i))\n",
    "\n",
    "    def __hallar_primo(self, nro):\n",
    "        primo=True\n",
    "        for i in range(2,nro):\n",
    "            if nro % i == 0:\n",
    "                primo=False\n",
    "                break\n",
    "        return primo\n",
    "    \n",
    "    def moda(self):\n",
    "        frecuencia = {}\n",
    "        for i in self.lista:\n",
    "            if i in frecuencia:\n",
    "                frecuencia[i] += 1\n",
    "            else:\n",
    "                frecuencia[i] = 1\n",
    "            \n",
    "        mas_repetido = None\n",
    "        rep = 0\n",
    "\n",
    "        for i, frecuencia in frecuencia.items():\n",
    "            if frecuencia > rep:\n",
    "                mas_repetido = i\n",
    "                rep = frecuencia\n",
    "            \n",
    "        return mas_repetido, rep\n",
    "\n",
    "    def __conv_grados(self,i, medidai, medidaf):\n",
    "                \n",
    "        if (medidai == 'c' or medidai == 'C') and (medidaf == 'f' or medidaf == 'F'):\n",
    "            GC = (i * 9/5) + 32\n",
    "        elif (medidai == 'c' or medidai == 'C') and (medidaf == 'k' or medidaf == 'K'):\n",
    "            GC = i  + 273.15\n",
    "        elif (medidai == 'f' or medidai == 'F') and (medidaf == 'c' or medidaf == 'C'):\n",
    "            GC = (i  - 32) * 5/9\n",
    "        elif (medidai == 'k' or medidai == 'K') and (medidaf == 'c' or medidaf == 'C'):\n",
    "            GC = i  - 273.15\n",
    "        return GC\n",
    "\n",
    "    def __factorial(self, num):\n",
    "        if type(num) == int:\n",
    "        \n",
    "            if (num < 0):\n",
    "                return 'Inválido!, ingrese solo números positivos'\n",
    "            if (num <= 1):\n",
    "                return 1\n",
    "                    \n",
    "            fact = num * self.__factorial(num - 1)\n",
    "            return fact\n",
    "        else:\n",
    "            return 'Inválido!, ingrese solo números enteros'\n",
    "    \n"
   ]
  },
  {
   "cell_type": "code",
   "execution_count": 63,
   "metadata": {},
   "outputs": [],
   "source": [
    "a = Op_Mates([1,1,2,3,4,4,5,5,6,6,6,7,7,8,8,8,9,9,9,9,9,])\n"
   ]
  },
  {
   "cell_type": "code",
   "execution_count": 52,
   "metadata": {},
   "outputs": [
    {
     "name": "stdout",
     "output_type": "stream",
     "text": [
      "El elemento 1 SI es un numero primo\n",
      "El elemento 1 SI es un numero primo\n",
      "El elemento 2 SI es un numero primo\n",
      "El elemento 3 SI es un numero primo\n",
      "El elemento 4 NO es un numero primo\n",
      "El elemento 4 NO es un numero primo\n",
      "El elemento 5 SI es un numero primo\n",
      "El elemento 5 SI es un numero primo\n",
      "El elemento 6 NO es un numero primo\n",
      "El elemento 6 NO es un numero primo\n",
      "El elemento 6 NO es un numero primo\n",
      "El elemento 7 SI es un numero primo\n",
      "El elemento 7 SI es un numero primo\n",
      "El elemento 8 NO es un numero primo\n",
      "El elemento 8 NO es un numero primo\n",
      "El elemento 8 NO es un numero primo\n",
      "El elemento 9 NO es un numero primo\n",
      "El elemento 9 NO es un numero primo\n",
      "El elemento 9 NO es un numero primo\n",
      "El elemento 9 NO es un numero primo\n",
      "El elemento 9 NO es un numero primo\n"
     ]
    }
   ],
   "source": [
    "a.hallar_primo()\n"
   ]
  },
  {
   "cell_type": "code",
   "execution_count": 53,
   "metadata": {},
   "outputs": [
    {
     "name": "stdout",
     "output_type": "stream",
     "text": [
      "El número más repetido es:  9  y se repite  5  veces.\n"
     ]
    }
   ],
   "source": [
    "mod, repe = a.moda()\n",
    "print('El número más repetido es: ', mod, ' y se repite ',repe,' veces.')\n"
   ]
  },
  {
   "cell_type": "code",
   "execution_count": 54,
   "metadata": {},
   "outputs": [
    {
     "name": "stdout",
     "output_type": "stream",
     "text": [
      "1 ° c son 274.15 ° k\n",
      "1 ° c son 274.15 ° k\n",
      "2 ° c son 275.15 ° k\n",
      "3 ° c son 276.15 ° k\n",
      "4 ° c son 277.15 ° k\n",
      "4 ° c son 277.15 ° k\n",
      "5 ° c son 278.15 ° k\n",
      "5 ° c son 278.15 ° k\n",
      "6 ° c son 279.15 ° k\n",
      "6 ° c son 279.15 ° k\n",
      "6 ° c son 279.15 ° k\n",
      "7 ° c son 280.15 ° k\n",
      "7 ° c son 280.15 ° k\n",
      "8 ° c son 281.15 ° k\n",
      "8 ° c son 281.15 ° k\n",
      "8 ° c son 281.15 ° k\n",
      "9 ° c son 282.15 ° k\n",
      "9 ° c son 282.15 ° k\n",
      "9 ° c son 282.15 ° k\n",
      "9 ° c son 282.15 ° k\n",
      "9 ° c son 282.15 ° k\n"
     ]
    }
   ],
   "source": [
    "a.conv_grados('c','k')\n"
   ]
  },
  {
   "cell_type": "code",
   "execution_count": 64,
   "metadata": {},
   "outputs": [
    {
     "name": "stdout",
     "output_type": "stream",
     "text": [
      "El factorial de 1 es 1\n",
      "El factorial de 1 es 1\n",
      "El factorial de 2 es 2\n",
      "El factorial de 3 es 6\n",
      "El factorial de 4 es 24\n",
      "El factorial de 4 es 24\n",
      "El factorial de 5 es 120\n",
      "El factorial de 5 es 120\n",
      "El factorial de 6 es 720\n",
      "El factorial de 6 es 720\n",
      "El factorial de 6 es 720\n",
      "El factorial de 7 es 5040\n",
      "El factorial de 7 es 5040\n",
      "El factorial de 8 es 40320\n",
      "El factorial de 8 es 40320\n",
      "El factorial de 8 es 40320\n",
      "El factorial de 9 es 362880\n",
      "El factorial de 9 es 362880\n",
      "El factorial de 9 es 362880\n",
      "El factorial de 9 es 362880\n",
      "El factorial de 9 es 362880\n"
     ]
    }
   ],
   "source": [
    "a.factorial()"
   ]
  },
  {
   "attachments": {},
   "cell_type": "markdown",
   "metadata": {},
   "source": [
    "8) Crear un archivo .py aparte y ubicar allí la clase generada en el punto anterior. Luego realizar la importación del módulo y probar alguna de sus funciones"
   ]
  },
  {
   "cell_type": "code",
   "execution_count": 69,
   "metadata": {},
   "outputs": [],
   "source": [
    "import clase_Op_Mates_Kevin as Mates_Kevin "
   ]
  },
  {
   "cell_type": "code",
   "execution_count": 71,
   "metadata": {},
   "outputs": [],
   "source": [
    "m = Mates_Kevin.Op_Mates([0,1,2,3,4])"
   ]
  },
  {
   "cell_type": "code",
   "execution_count": 72,
   "metadata": {},
   "outputs": [
    {
     "name": "stdout",
     "output_type": "stream",
     "text": [
      "El factorial de 0 es 1\n",
      "El factorial de 1 es 1\n",
      "El factorial de 2 es 2\n",
      "El factorial de 3 es 6\n",
      "El factorial de 4 es 24\n"
     ]
    }
   ],
   "source": [
    "m.factorial()"
   ]
  },
  {
   "cell_type": "code",
   "execution_count": 75,
   "metadata": {},
   "outputs": [
    {
     "name": "stdout",
     "output_type": "stream",
     "text": [
      "0 ° c son 32.0 ° f\n",
      "1 ° c son 33.8 ° f\n",
      "2 ° c son 35.6 ° f\n",
      "3 ° c son 37.4 ° f\n",
      "4 ° c son 39.2 ° f\n"
     ]
    }
   ],
   "source": [
    "m.conv_grados('c','f')"
   ]
  },
  {
   "cell_type": "code",
   "execution_count": 76,
   "metadata": {},
   "outputs": [
    {
     "name": "stdout",
     "output_type": "stream",
     "text": [
      "El elemento 0 SI es un numero primo\n",
      "El elemento 1 SI es un numero primo\n",
      "El elemento 2 SI es un numero primo\n",
      "El elemento 3 SI es un numero primo\n",
      "El elemento 4 NO es un numero primo\n"
     ]
    }
   ],
   "source": [
    "m.hallar_primo()"
   ]
  },
  {
   "cell_type": "code",
   "execution_count": 77,
   "metadata": {},
   "outputs": [
    {
     "name": "stdout",
     "output_type": "stream",
     "text": [
      "El número más repetido es:  0  y se repite  1  veces.\n"
     ]
    }
   ],
   "source": [
    "mod, repe = m.moda()\n",
    "print('El número más repetido es: ', mod, ' y se repite ',repe,' veces.')"
   ]
  }
 ],
 "metadata": {
  "interpreter": {
   "hash": "c85384e4cb51c8b72350f3a8712cc8351fdc3955e32a27f9b60c6242ab125f01"
  },
  "kernelspec": {
   "display_name": "Python 3 (ipykernel)",
   "language": "python",
   "name": "python3"
  },
  "language_info": {
   "codemirror_mode": {
    "name": "ipython",
    "version": 3
   },
   "file_extension": ".py",
   "mimetype": "text/x-python",
   "name": "python",
   "nbconvert_exporter": "python",
   "pygments_lexer": "ipython3",
   "version": "3.11.6"
  }
 },
 "nbformat": 4,
 "nbformat_minor": 4
}
