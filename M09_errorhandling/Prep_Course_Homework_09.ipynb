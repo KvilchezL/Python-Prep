{
 "cells": [
  {
   "attachments": {},
   "cell_type": "markdown",
   "metadata": {},
   "source": [
    "## Manejo de errores"
   ]
  },
  {
   "attachments": {},
   "cell_type": "markdown",
   "metadata": {},
   "source": [
    "1) Con la clase creada en el módulo 7, tener en cuenta diferentes casos en que el código pudiera arrojar error. Por ejemplo, en la creación del objeto recibimos una lista de números enteros pero ¿qué pasa si se envía otro tipo de dato?"
   ]
  },
  {
   "cell_type": "code",
   "execution_count": 27,
   "metadata": {},
   "outputs": [
    {
     "name": "stdout",
     "output_type": "stream",
     "text": [
      "['d:\\\\Mis Archivos\\\\Programacion\\\\Henry\\\\Prepcourse\\\\Data Science\\\\Python-Prep\\\\M09_errorhandling', 'C:\\\\Program Files\\\\WindowsApps\\\\PythonSoftwareFoundation.Python.3.11_3.11.1776.0_x64__qbz5n2kfra8p0\\\\python311.zip', 'C:\\\\Program Files\\\\WindowsApps\\\\PythonSoftwareFoundation.Python.3.11_3.11.1776.0_x64__qbz5n2kfra8p0\\\\DLLs', 'C:\\\\Program Files\\\\WindowsApps\\\\PythonSoftwareFoundation.Python.3.11_3.11.1776.0_x64__qbz5n2kfra8p0\\\\Lib', 'C:\\\\Program Files\\\\WindowsApps\\\\PythonSoftwareFoundation.Python.3.11_3.11.1776.0_x64__qbz5n2kfra8p0', '', 'C:\\\\Users\\\\kevin\\\\AppData\\\\Local\\\\Packages\\\\PythonSoftwareFoundation.Python.3.11_qbz5n2kfra8p0\\\\LocalCache\\\\local-packages\\\\Python311\\\\site-packages', 'C:\\\\Users\\\\kevin\\\\AppData\\\\Local\\\\Packages\\\\PythonSoftwareFoundation.Python.3.11_qbz5n2kfra8p0\\\\LocalCache\\\\local-packages\\\\Python311\\\\site-packages\\\\win32', 'C:\\\\Users\\\\kevin\\\\AppData\\\\Local\\\\Packages\\\\PythonSoftwareFoundation.Python.3.11_qbz5n2kfra8p0\\\\LocalCache\\\\local-packages\\\\Python311\\\\site-packages\\\\win32\\\\lib', 'C:\\\\Users\\\\kevin\\\\AppData\\\\Local\\\\Packages\\\\PythonSoftwareFoundation.Python.3.11_qbz5n2kfra8p0\\\\LocalCache\\\\local-packages\\\\Python311\\\\site-packages\\\\Pythonwin', 'C:\\\\Program Files\\\\WindowsApps\\\\PythonSoftwareFoundation.Python.3.11_3.11.1776.0_x64__qbz5n2kfra8p0\\\\Lib\\\\site-packages', 'D:/Mis Archivos/Programacion/Henry/Prepcourse/Data Science/Python-Prep/M08_clasesyOOP', 'D:/Mis Archivos/Programacion/Henry/Prepcourse/Data Science/Python-Prep/M08_clasesyOOP', 'D:/Mis Archivos/Programacion/Henry/Prepcourse/Data Science/Python-Prep/M08_clasesyOOP', 'D:/Mis Archivos/Programacion/Henry/Prepcourse/Data Science/Python-Prep/M08_clasesyOOP', 'D:/Mis Archivos/Programacion/Henry/Prepcourse/Data Science/Python-Prep/M08_clasesyOOP', 'D:/Mis Archivos/Programacion/Henry/Prepcourse/Data Science/Python-Prep/M08_clasesyOOP', 'D:/Mis Archivos/Programacion/Henry/Prepcourse/Data Science/Python-Prep/M08_clasesyOOP', 'D:/Mis Archivos/Programacion/Henry/Prepcourse/Data Science/Python-Prep/M08_clasesyOOP', 'D:/Mis Archivos/Programacion/Henry/Prepcourse/Data Science/Python-Prep/M08_clasesyOOP']\n"
     ]
    },
    {
     "ename": "AttributeError",
     "evalue": "'list' object has no attribute 'reload'",
     "output_type": "error",
     "traceback": [
      "\u001b[1;31m---------------------------------------------------------------------------\u001b[0m",
      "\u001b[1;31mAttributeError\u001b[0m                            Traceback (most recent call last)",
      "\u001b[1;32md:\\Mis Archivos\\Programacion\\Henry\\Prepcourse\\Data Science\\Python-Prep\\M09_errorhandling\\Prep_Course_Homework_09.ipynb Cell 3\u001b[0m line \u001b[0;36m3\n\u001b[0;32m      <a href='vscode-notebook-cell:/d%3A/Mis%20Archivos/Programacion/Henry/Prepcourse/Data%20Science/Python-Prep/M09_errorhandling/Prep_Course_Homework_09.ipynb#W2sZmlsZQ%3D%3D?line=0'>1</a>\u001b[0m \u001b[39mimport\u001b[39;00m \u001b[39msys\u001b[39;00m\n\u001b[0;32m      <a href='vscode-notebook-cell:/d%3A/Mis%20Archivos/Programacion/Henry/Prepcourse/Data%20Science/Python-Prep/M09_errorhandling/Prep_Course_Homework_09.ipynb#W2sZmlsZQ%3D%3D?line=1'>2</a>\u001b[0m \u001b[39mprint\u001b[39m(sys\u001b[39m.\u001b[39mpath)\n\u001b[1;32m----> <a href='vscode-notebook-cell:/d%3A/Mis%20Archivos/Programacion/Henry/Prepcourse/Data%20Science/Python-Prep/M09_errorhandling/Prep_Course_Homework_09.ipynb#W2sZmlsZQ%3D%3D?line=2'>3</a>\u001b[0m sys\u001b[39m.\u001b[39;49mpath\u001b[39m.\u001b[39;49mreload()\n",
      "\u001b[1;31mAttributeError\u001b[0m: 'list' object has no attribute 'reload'"
     ]
    }
   ],
   "source": [
    "import sys\n",
    "sys.path.append(r'D:/Mis Archivos/Programacion/Henry/Prepcourse/Data Science/Python-Prep/M08_clasesyOOP')\n",
    "print(sys.path)\n",
    "\n",
    "\n",
    "\n"
   ]
  },
  {
   "cell_type": "code",
   "execution_count": 25,
   "metadata": {},
   "outputs": [
    {
     "data": {
      "text/plain": [
       "('K', 1)"
      ]
     },
     "execution_count": 25,
     "metadata": {},
     "output_type": "execute_result"
    }
   ],
   "source": [
    "import clase_Op_Mates_Kevin as M\n",
    "\n",
    "Mate1 = M.Op_Mates('Kevin')\n",
    "\n",
    "Mate1.moda()"
   ]
  },
  {
   "attachments": {},
   "cell_type": "markdown",
   "metadata": {},
   "source": [
    "2) En la función que hace la conversión de grados, validar que los parámetros enviados sean los esperados, de no serlo, informar cuáles son los valores esperados."
   ]
  },
  {
   "cell_type": "code",
   "execution_count": 30,
   "metadata": {},
   "outputs": [
    {
     "data": {
      "text/plain": [
       "<module 'clase_Op_Mates_Kevin' from 'D:\\\\Mis Archivos/Programacion/Henry/Prepcourse/Data Science/Python-Prep/M08_clasesyOOP\\\\clase_Op_Mates_Kevin.py'>"
      ]
     },
     "execution_count": 30,
     "metadata": {},
     "output_type": "execute_result"
    }
   ],
   "source": [
    "import importlib\n",
    "importlib.reload(Mate)"
   ]
  },
  {
   "cell_type": "code",
   "execution_count": 32,
   "metadata": {},
   "outputs": [
    {
     "ename": "UnboundLocalError",
     "evalue": "cannot access local variable 'GC' where it is not associated with a value",
     "output_type": "error",
     "traceback": [
      "\u001b[1;31m---------------------------------------------------------------------------\u001b[0m",
      "\u001b[1;31mUnboundLocalError\u001b[0m                         Traceback (most recent call last)",
      "\u001b[1;32md:\\Mis Archivos\\Programacion\\Henry\\Prepcourse\\Data Science\\Python-Prep\\M09_errorhandling\\Prep_Course_Homework_09.ipynb Cell 7\u001b[0m line \u001b[0;36m3\n\u001b[0;32m      <a href='vscode-notebook-cell:/d%3A/Mis%20Archivos/Programacion/Henry/Prepcourse/Data%20Science/Python-Prep/M09_errorhandling/Prep_Course_Homework_09.ipynb#X22sZmlsZQ%3D%3D?line=0'>1</a>\u001b[0m M1 \u001b[39m=\u001b[39m Mate\u001b[39m.\u001b[39mOp_Mates([\u001b[39m2\u001b[39m,\u001b[39m3\u001b[39m,\u001b[39m5\u001b[39m,\u001b[39m6\u001b[39m,\u001b[39m2\u001b[39m])\n\u001b[1;32m----> <a href='vscode-notebook-cell:/d%3A/Mis%20Archivos/Programacion/Henry/Prepcourse/Data%20Science/Python-Prep/M09_errorhandling/Prep_Course_Homework_09.ipynb#X22sZmlsZQ%3D%3D?line=2'>3</a>\u001b[0m M1\u001b[39m.\u001b[39;49mconv_grados(\u001b[39m1\u001b[39;49m,\u001b[39m2\u001b[39;49m)\n",
      "File \u001b[1;32mD:\\Mis Archivos/Programacion/Henry/Prepcourse/Data Science/Python-Prep/M08_clasesyOOP\\clase_Op_Mates_Kevin.py:14\u001b[0m, in \u001b[0;36mOp_Mates.conv_grados\u001b[1;34m(self, medidai, medidaf)\u001b[0m\n\u001b[0;32m     12\u001b[0m \u001b[39mdef\u001b[39;00m \u001b[39mconv_grados\u001b[39m(\u001b[39mself\u001b[39m, medidai, medidaf):\n\u001b[0;32m     13\u001b[0m     \u001b[39mfor\u001b[39;00m i \u001b[39min\u001b[39;00m \u001b[39mself\u001b[39m\u001b[39m.\u001b[39mlista:\n\u001b[1;32m---> 14\u001b[0m         \u001b[39mprint\u001b[39m(i, \u001b[39m'\u001b[39m\u001b[39m°\u001b[39m\u001b[39m'\u001b[39m, medidai, \u001b[39m'\u001b[39m\u001b[39mson\u001b[39m\u001b[39m'\u001b[39m, \u001b[39mself\u001b[39;49m\u001b[39m.\u001b[39;49m__conv_grados(i, medidai, medidaf), \u001b[39m'\u001b[39m\u001b[39m°\u001b[39m\u001b[39m'\u001b[39m, medidaf)\n",
      "File \u001b[1;32mD:\\Mis Archivos/Programacion/Henry/Prepcourse/Data Science/Python-Prep/M08_clasesyOOP\\clase_Op_Mates_Kevin.py:56\u001b[0m, in \u001b[0;36mOp_Mates.__conv_grados\u001b[1;34m(self, i, medidai, medidaf)\u001b[0m\n\u001b[0;32m     54\u001b[0m \u001b[39melif\u001b[39;00m (medidai \u001b[39m==\u001b[39m \u001b[39m'\u001b[39m\u001b[39mk\u001b[39m\u001b[39m'\u001b[39m \u001b[39mor\u001b[39;00m medidai \u001b[39m==\u001b[39m \u001b[39m'\u001b[39m\u001b[39mK\u001b[39m\u001b[39m'\u001b[39m) \u001b[39mand\u001b[39;00m (medidaf \u001b[39m==\u001b[39m \u001b[39m'\u001b[39m\u001b[39mc\u001b[39m\u001b[39m'\u001b[39m \u001b[39mor\u001b[39;00m medidaf \u001b[39m==\u001b[39m \u001b[39m'\u001b[39m\u001b[39mC\u001b[39m\u001b[39m'\u001b[39m):\n\u001b[0;32m     55\u001b[0m     GC \u001b[39m=\u001b[39m i  \u001b[39m-\u001b[39m \u001b[39m273.15\u001b[39m\n\u001b[1;32m---> 56\u001b[0m \u001b[39mreturn\u001b[39;00m GC\n",
      "\u001b[1;31mUnboundLocalError\u001b[0m: cannot access local variable 'GC' where it is not associated with a value"
     ]
    }
   ],
   "source": [
    "M1 = Mate.Op_Mates([2,3,5,6,2])\n",
    "\n",
    "M1.conv_grados(1,2)"
   ]
  },
  {
   "attachments": {},
   "cell_type": "markdown",
   "metadata": {},
   "source": [
    "3) Importar el modulo \"unittest\" y crear los siguientes casos de pruebas sobre la clase utilizada en el punto 2<br>\n",
    "Creacion del objeto incorrecta<br>\n",
    "Creacion correcta del objeto<br>\n",
    "Metodo valor_modal()<br>\n",
    "\n",
    "Se puede usar \"raise ValueError()\" en la creación de la clase para verificar el error. Investigar sobre esta funcionalidad."
   ]
  },
  {
   "cell_type": "code",
   "execution_count": null,
   "metadata": {},
   "outputs": [],
   "source": []
  },
  {
   "attachments": {},
   "cell_type": "markdown",
   "metadata": {},
   "source": [
    "4) Probar una creación incorrecta y visualizar la salida del \"raise\""
   ]
  },
  {
   "cell_type": "code",
   "execution_count": null,
   "metadata": {},
   "outputs": [],
   "source": []
  },
  {
   "attachments": {},
   "cell_type": "markdown",
   "metadata": {},
   "source": [
    "6) Agregar casos de pruebas para el método verifica_primos() realizando el cambio en la clase, para que devuelva una lista de True o False en función de que el elemento en la posisicón sea o no primo"
   ]
  },
  {
   "cell_type": "code",
   "execution_count": null,
   "metadata": {},
   "outputs": [],
   "source": []
  },
  {
   "attachments": {},
   "cell_type": "markdown",
   "metadata": {},
   "source": [
    "7) Agregar casos de pruebas para el método conversion_grados()"
   ]
  },
  {
   "cell_type": "code",
   "execution_count": null,
   "metadata": {},
   "outputs": [],
   "source": []
  },
  {
   "attachments": {},
   "cell_type": "markdown",
   "metadata": {},
   "source": [
    "8) Agregar casos de pruebas para el método factorial()"
   ]
  },
  {
   "cell_type": "code",
   "execution_count": null,
   "metadata": {},
   "outputs": [],
   "source": []
  }
 ],
 "metadata": {
  "interpreter": {
   "hash": "c85384e4cb51c8b72350f3a8712cc8351fdc3955e32a27f9b60c6242ab125f01"
  },
  "kernelspec": {
   "display_name": "Python 3 (ipykernel)",
   "language": "python",
   "name": "python3"
  },
  "language_info": {
   "codemirror_mode": {
    "name": "ipython",
    "version": 3
   },
   "file_extension": ".py",
   "mimetype": "text/x-python",
   "name": "python",
   "nbconvert_exporter": "python",
   "pygments_lexer": "ipython3",
   "version": "3.11.6"
  }
 },
 "nbformat": 4,
 "nbformat_minor": 4
}
