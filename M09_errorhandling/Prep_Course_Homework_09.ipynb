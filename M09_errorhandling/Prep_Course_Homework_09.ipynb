{
 "cells": [
  {
   "attachments": {},
   "cell_type": "markdown",
   "metadata": {},
   "source": [
    "## Manejo de errores"
   ]
  },
  {
   "attachments": {},
   "cell_type": "markdown",
   "metadata": {},
   "source": [
    "1) Con la clase creada en el módulo 7, tener en cuenta diferentes casos en que el código pudiera arrojar error. Por ejemplo, en la creación del objeto recibimos una lista de números enteros pero ¿qué pasa si se envía otro tipo de dato?"
   ]
  },
  {
   "cell_type": "code",
   "execution_count": 30,
   "metadata": {},
   "outputs": [
    {
     "name": "stdout",
     "output_type": "stream",
     "text": [
      "['d:\\\\Mis Archivos\\\\Programacion\\\\Henry\\\\Prepcourse\\\\Data Science\\\\Python-Prep\\\\M09_errorhandling', 'C:\\\\Program Files\\\\WindowsApps\\\\PythonSoftwareFoundation.Python.3.11_3.11.1776.0_x64__qbz5n2kfra8p0\\\\python311.zip', 'C:\\\\Program Files\\\\WindowsApps\\\\PythonSoftwareFoundation.Python.3.11_3.11.1776.0_x64__qbz5n2kfra8p0\\\\DLLs', 'C:\\\\Program Files\\\\WindowsApps\\\\PythonSoftwareFoundation.Python.3.11_3.11.1776.0_x64__qbz5n2kfra8p0\\\\Lib', 'C:\\\\Program Files\\\\WindowsApps\\\\PythonSoftwareFoundation.Python.3.11_3.11.1776.0_x64__qbz5n2kfra8p0', '', 'C:\\\\Users\\\\kevin\\\\AppData\\\\Local\\\\Packages\\\\PythonSoftwareFoundation.Python.3.11_qbz5n2kfra8p0\\\\LocalCache\\\\local-packages\\\\Python311\\\\site-packages', 'C:\\\\Users\\\\kevin\\\\AppData\\\\Local\\\\Packages\\\\PythonSoftwareFoundation.Python.3.11_qbz5n2kfra8p0\\\\LocalCache\\\\local-packages\\\\Python311\\\\site-packages\\\\win32', 'C:\\\\Users\\\\kevin\\\\AppData\\\\Local\\\\Packages\\\\PythonSoftwareFoundation.Python.3.11_qbz5n2kfra8p0\\\\LocalCache\\\\local-packages\\\\Python311\\\\site-packages\\\\win32\\\\lib', 'C:\\\\Users\\\\kevin\\\\AppData\\\\Local\\\\Packages\\\\PythonSoftwareFoundation.Python.3.11_qbz5n2kfra8p0\\\\LocalCache\\\\local-packages\\\\Python311\\\\site-packages\\\\Pythonwin', 'C:\\\\Program Files\\\\WindowsApps\\\\PythonSoftwareFoundation.Python.3.11_3.11.1776.0_x64__qbz5n2kfra8p0\\\\Lib\\\\site-packages', 'D:/Mis Archivos/Programacion/Henry/Prepcourse/Data Science/Python-Prep/M08_clasesyOOP', 'D:/Mis Archivos/Programacion/Henry/Prepcourse/Data Science/Python-Prep/M08_clasesyOOP', 'D:/Mis Archivos/Programacion/Henry/Prepcourse/Data Science/Python-Prep/M08_clasesyOOP', 'D:/Mis Archivos/Programacion/Henry/Prepcourse/Data Science/Python-Prep/M08_clasesyOOP', 'D:/Mis Archivos/Programacion/Henry/Prepcourse/Data Science/Python-Prep/M08_clasesyOOP', 'D:/Mis Archivos/Programacion/Henry/Prepcourse/Data Science/Python-Prep/M08_clasesyOOP', 'D:/Mis Archivos/Programacion/Henry/Prepcourse/Data Science/Python-Prep/M08_clasesyOOP', 'D:/Mis Archivos/Programacion/Henry/Prepcourse/Data Science/Python-Prep/M08_clasesyOOP', 'D:/Mis Archivos/Programacion/Henry/Prepcourse/Data Science/Python-Prep/M08_clasesyOOP', 'D:/Mis Archivos/Programacion/Henry/Prepcourse/Data Science/Python-Prep/M08_clasesyOOP', 'D:/Mis Archivos/Programacion/Henry/Prepcourse/Data Science/Python-Prep/M08_clasesyOOP']\n"
     ]
    }
   ],
   "source": [
    "import sys\n",
    "sys.path.append(r'D:/Mis Archivos/Programacion/Henry/Prepcourse/Data Science/Python-Prep/M08_clasesyOOP')\n",
    "print(sys.path)\n",
    "\n",
    "\n",
    "\n"
   ]
  },
  {
   "cell_type": "code",
   "execution_count": 69,
   "metadata": {},
   "outputs": [
    {
     "ename": "ValueError",
     "evalue": "Los datos ingresados son inválidos, debe ingresar una lista",
     "output_type": "error",
     "traceback": [
      "\u001b[1;31m---------------------------------------------------------------------------\u001b[0m",
      "\u001b[1;31mValueError\u001b[0m                                Traceback (most recent call last)",
      "\u001b[1;32md:\\Mis Archivos\\Programacion\\Henry\\Prepcourse\\Data Science\\Python-Prep\\M09_errorhandling\\Prep_Course_Homework_09.ipynb Cell 4\u001b[0m line \u001b[0;36m6\n\u001b[0;32m      <a href='vscode-notebook-cell:/d%3A/Mis%20Archivos/Programacion/Henry/Prepcourse/Data%20Science/Python-Prep/M09_errorhandling/Prep_Course_Homework_09.ipynb#W3sZmlsZQ%3D%3D?line=2'>3</a>\u001b[0m \u001b[39mfrom\u001b[39;00m \u001b[39mimportlib\u001b[39;00m \u001b[39mimport\u001b[39;00m reload\n\u001b[0;32m      <a href='vscode-notebook-cell:/d%3A/Mis%20Archivos/Programacion/Henry/Prepcourse/Data%20Science/Python-Prep/M09_errorhandling/Prep_Course_Homework_09.ipynb#W3sZmlsZQ%3D%3D?line=3'>4</a>\u001b[0m reload(M)\n\u001b[1;32m----> <a href='vscode-notebook-cell:/d%3A/Mis%20Archivos/Programacion/Henry/Prepcourse/Data%20Science/Python-Prep/M09_errorhandling/Prep_Course_Homework_09.ipynb#W3sZmlsZQ%3D%3D?line=5'>6</a>\u001b[0m Mate1 \u001b[39m=\u001b[39m M\u001b[39m.\u001b[39;49mOp_Mates(\u001b[39m'\u001b[39;49m\u001b[39mhola\u001b[39;49m\u001b[39m'\u001b[39;49m)\n",
      "File \u001b[1;32mD:\\Mis Archivos/Programacion/Henry/Prepcourse/Data Science/Python-Prep/M08_clasesyOOP\\clase_Op_Mates_Kevin.py:5\u001b[0m, in \u001b[0;36mOp_Mates.__init__\u001b[1;34m(self, lista)\u001b[0m\n\u001b[0;32m      2\u001b[0m \u001b[39mdef\u001b[39;00m \u001b[39m__init__\u001b[39m(\u001b[39mself\u001b[39m, lista):\n\u001b[0;32m      3\u001b[0m     \u001b[39mif\u001b[39;00m \u001b[39mnot\u001b[39;00m \u001b[39misinstance\u001b[39m(lista,\u001b[39mlist\u001b[39m):\n\u001b[0;32m      4\u001b[0m         \u001b[39m#self.lista=[]\u001b[39;00m\n\u001b[1;32m----> 5\u001b[0m         \u001b[39mraise\u001b[39;00m \u001b[39mValueError\u001b[39;00m(\u001b[39m'\u001b[39m\u001b[39mLos datos ingresados son inválidos, debe ingresar una lista\u001b[39m\u001b[39m'\u001b[39m)\n\u001b[0;32m      7\u001b[0m     \u001b[39mfor\u001b[39;00m num  \u001b[39min\u001b[39;00m lista:\n\u001b[0;32m      8\u001b[0m         \u001b[39mif\u001b[39;00m \u001b[39mnot\u001b[39;00m \u001b[39misinstance\u001b[39m(num,\u001b[39mint\u001b[39m):\n\u001b[0;32m      9\u001b[0m             \u001b[39m#self.lista=[]\u001b[39;00m\n",
      "\u001b[1;31mValueError\u001b[0m: Los datos ingresados son inválidos, debe ingresar una lista"
     ]
    }
   ],
   "source": [
    "import clase_Op_Mates_Kevin as M\n",
    "\n",
    "from importlib import reload\n",
    "reload(M)\n",
    "\n",
    "Mate1 = M.Op_Mates('hola')\n",
    "\n"
   ]
  },
  {
   "attachments": {},
   "cell_type": "markdown",
   "metadata": {},
   "source": [
    "2) En la función que hace la conversión de grados, validar que los parámetros enviados sean los esperados, de no serlo, informar cuáles son los valores esperados."
   ]
  },
  {
   "cell_type": "code",
   "execution_count": 93,
   "metadata": {},
   "outputs": [
    {
     "data": {
      "text/plain": [
       "<module 'clase_Op_Mates_Kevin' from 'D:\\\\Mis Archivos/Programacion/Henry/Prepcourse/Data Science/Python-Prep/M08_clasesyOOP\\\\clase_Op_Mates_Kevin.py'>"
      ]
     },
     "execution_count": 93,
     "metadata": {},
     "output_type": "execute_result"
    }
   ],
   "source": [
    "import importlib\n",
    "importlib.reload(M)"
   ]
  },
  {
   "cell_type": "code",
   "execution_count": 80,
   "metadata": {},
   "outputs": [
    {
     "name": "stdout",
     "output_type": "stream",
     "text": [
      "No se puede convertir!, ingrese 'c' o 'C' para celsius, 'f' o 'F' para farenheit y 'k' o 'K' para kelvin.\n"
     ]
    }
   ],
   "source": [
    "M1 = M.Op_Mates([2,3,5,6,2])\n",
    "\n",
    "M1.conv_grados('m', 'n')\n",
    "\n"
   ]
  },
  {
   "attachments": {},
   "cell_type": "markdown",
   "metadata": {},
   "source": [
    "3) Importar el modulo \"unittest\" y crear los siguientes casos de pruebas sobre la clase utilizada en el punto 2<br>\n",
    "Creacion del objeto incorrecta<br>\n",
    "Creacion correcta del objeto<br>\n",
    "Metodo valor_modal()<br>\n",
    "\n",
    "Se puede usar \"raise ValueError()\" en la creación de la clase para verificar el error. Investigar sobre esta funcionalidad."
   ]
  },
  {
   "cell_type": "code",
   "execution_count": 90,
   "metadata": {},
   "outputs": [
    {
     "name": "stderr",
     "output_type": "stream",
     "text": [
      "test_creacionobjetocorrecta (__main__.Testcasos.test_creacionobjetocorrecta) ... ok\n",
      "test_creacionobjetoincorrecta (__main__.Testcasos.test_creacionobjetoincorrecta) ... ok\n",
      "test_moda (__main__.Testcasos.test_moda) ... ok\n",
      "\n",
      "----------------------------------------------------------------------\n",
      "Ran 3 tests in 0.009s\n",
      "\n",
      "OK\n"
     ]
    },
    {
     "data": {
      "text/plain": [
       "<unittest.main.TestProgram at 0x1b9753b3f10>"
      ]
     },
     "execution_count": 90,
     "metadata": {},
     "output_type": "execute_result"
    }
   ],
   "source": [
    "import unittest\n",
    "from clase_Op_Mates_Kevin import Op_Mates\n",
    "\n",
    "class Testcasos(unittest.TestCase):\n",
    "    def test_creacionobjetoincorrecta(self):\n",
    "        with self.assertRaises(ValueError):\n",
    "            Op_Mates('Kevin')\n",
    "\n",
    "    def test_creacionobjetocorrecta(self):\n",
    "        lista_correcta = [2, 3, 5, 6, 2]\n",
    "        objeto = Op_Mates(lista_correcta)\n",
    "        self.assertIsInstance(objeto, Op_Mates)\n",
    "\n",
    "    def test_moda(self):\n",
    "        lista_valores = [2, 3, 2, 4, 4, 4, 5, 6, 6, 6]\n",
    "        objeto = Op_Mates(lista_valores)\n",
    "        moda, repeticiones = objeto.moda()\n",
    "        self.assertEqual(moda, 4)\n",
    "        self.assertEqual(repeticiones, 3)\n",
    "\n",
    "unittest.main(argv=[''],verbosity=2,exit=False)\n"
   ]
  },
  {
   "attachments": {},
   "cell_type": "markdown",
   "metadata": {},
   "source": [
    "4) Probar una creación incorrecta y visualizar la salida del \"raise\""
   ]
  },
  {
   "cell_type": "code",
   "execution_count": 94,
   "metadata": {},
   "outputs": [
    {
     "ename": "ValueError",
     "evalue": "Los datos ingresados son inválidos, debe ingresar una lista de numeros enteros",
     "output_type": "error",
     "traceback": [
      "\u001b[1;31m---------------------------------------------------------------------------\u001b[0m",
      "\u001b[1;31mValueError\u001b[0m                                Traceback (most recent call last)",
      "\u001b[1;32md:\\Mis Archivos\\Programacion\\Henry\\Prepcourse\\Data Science\\Python-Prep\\M09_errorhandling\\Prep_Course_Homework_09.ipynb Cell 11\u001b[0m line \u001b[0;36m1\n\u001b[1;32m----> <a href='vscode-notebook-cell:/d%3A/Mis%20Archivos/Programacion/Henry/Prepcourse/Data%20Science/Python-Prep/M09_errorhandling/Prep_Course_Homework_09.ipynb#X13sZmlsZQ%3D%3D?line=0'>1</a>\u001b[0m M2\u001b[39m=\u001b[39mM\u001b[39m.\u001b[39;49mOp_Mates(\u001b[39m'\u001b[39;49m\u001b[39mOtra cosa\u001b[39;49m\u001b[39m'\u001b[39;49m)\n",
      "File \u001b[1;32mD:\\Mis Archivos/Programacion/Henry/Prepcourse/Data Science/Python-Prep/M08_clasesyOOP\\clase_Op_Mates_Kevin.py:5\u001b[0m, in \u001b[0;36mOp_Mates.__init__\u001b[1;34m(self, lista)\u001b[0m\n\u001b[0;32m      2\u001b[0m \u001b[39mdef\u001b[39;00m \u001b[39m__init__\u001b[39m(\u001b[39mself\u001b[39m, lista):\n\u001b[0;32m      3\u001b[0m     \u001b[39mif\u001b[39;00m \u001b[39mnot\u001b[39;00m \u001b[39misinstance\u001b[39m(lista,\u001b[39mlist\u001b[39m):\n\u001b[0;32m      4\u001b[0m         \u001b[39m#self.lista=[]\u001b[39;00m\n\u001b[1;32m----> 5\u001b[0m         \u001b[39mraise\u001b[39;00m \u001b[39mValueError\u001b[39;00m(\u001b[39m'\u001b[39m\u001b[39mLos datos ingresados son inválidos, debe ingresar una lista de numeros enteros\u001b[39m\u001b[39m'\u001b[39m)\n\u001b[0;32m      7\u001b[0m     \u001b[39mfor\u001b[39;00m num  \u001b[39min\u001b[39;00m lista:\n\u001b[0;32m      8\u001b[0m         \u001b[39mif\u001b[39;00m \u001b[39mnot\u001b[39;00m \u001b[39misinstance\u001b[39m(num,\u001b[39mint\u001b[39m):\n\u001b[0;32m      9\u001b[0m             \u001b[39m#self.lista=[]\u001b[39;00m\n",
      "\u001b[1;31mValueError\u001b[0m: Los datos ingresados son inválidos, debe ingresar una lista de numeros enteros"
     ]
    }
   ],
   "source": [
    "M2=M.Op_Mates('Otra cosa')"
   ]
  },
  {
   "attachments": {},
   "cell_type": "markdown",
   "metadata": {},
   "source": [
    "6) Agregar casos de pruebas para el método verifica_primos() realizando el cambio en la clase, para que devuelva una lista de True o False en función de que el elemento en la posisicón sea o no primo"
   ]
  },
  {
   "cell_type": "code",
   "execution_count": 99,
   "metadata": {},
   "outputs": [
    {
     "name": "stderr",
     "output_type": "stream",
     "text": [
      "test_primos (__main__.Pruebaprimos.test_primos) ... ok\n",
      "test_creacionobjetocorrecta (__main__.Testcasos.test_creacionobjetocorrecta) ... ok\n",
      "test_creacionobjetoincorrecta (__main__.Testcasos.test_creacionobjetoincorrecta) ... ok\n",
      "test_moda (__main__.Testcasos.test_moda) ... ok\n",
      "\n",
      "----------------------------------------------------------------------\n",
      "Ran 4 tests in 0.009s\n",
      "\n",
      "OK\n"
     ]
    },
    {
     "data": {
      "text/plain": [
       "<unittest.main.TestProgram at 0x1b9754e8c10>"
      ]
     },
     "execution_count": 99,
     "metadata": {},
     "output_type": "execute_result"
    }
   ],
   "source": [
    "class Pruebaprimos(unittest.TestCase):\n",
    "    def test_primos(self):\n",
    "        lista = [2,3,8,10,13]\n",
    "        M3=M.Op_Mates(lista)\n",
    "        resultados, mensajes = M3.hallar_primo()\n",
    "        numprimos_esperados = [True,True,False,False,True]\n",
    "        mensajes_esperados = ['El elemento 2 SI es un número primo',\n",
    "            'El elemento 3 SI es un número primo',\n",
    "            'El elemento 8 NO es un número primo',\n",
    "            'El elemento 10 NO es un número primo',\n",
    "            'El elemento 13 SI es un número primo']\n",
    "        self.assertEqual(resultados,numprimos_esperados)\n",
    "        self.assertEqual(mensajes,mensajes_esperados)\n",
    "        \n",
    "reload(M)\n",
    "\n",
    "unittest.main(argv=[''],verbosity=2,exit=False)"
   ]
  },
  {
   "attachments": {},
   "cell_type": "markdown",
   "metadata": {},
   "source": [
    "7) Agregar casos de pruebas para el método conversion_grados()"
   ]
  },
  {
   "cell_type": "code",
   "execution_count": 113,
   "metadata": {},
   "outputs": [
    {
     "name": "stderr",
     "output_type": "stream",
     "text": [
      "test_primos (__main__.Pruebaprimos.test_primos) ... ok\n",
      "test_creacionobjetocorrecta (__main__.Testcasos.test_creacionobjetocorrecta) ... ok\n",
      "test_creacionobjetoincorrecta (__main__.Testcasos.test_creacionobjetoincorrecta) ... ok\n",
      "test_moda (__main__.Testcasos.test_moda) ... ok\n",
      "test_convgrados (__main__.testconversiongrados.test_convgrados) ... ok\n",
      "\n",
      "----------------------------------------------------------------------\n",
      "Ran 5 tests in 0.011s\n",
      "\n",
      "OK\n"
     ]
    },
    {
     "data": {
      "text/plain": [
       "<unittest.main.TestProgram at 0x1b9754e8290>"
      ]
     },
     "execution_count": 113,
     "metadata": {},
     "output_type": "execute_result"
    }
   ],
   "source": [
    "class testconversiongrados(unittest.TestCase):\n",
    "    def test_convgrados(self):\n",
    "        lista = [2,3,8,10,13]\n",
    "        M4=M.Op_Mates(lista)\n",
    "        grados, mensajes = M4.conv_grados('c','f')\n",
    "        \n",
    "        grados_esperados = [35.6,37.4,46.4,50.0,55.4]\n",
    "        mensajes_esperados =['2 ° c son 35.6 ° f','3 ° c son 37.4 ° f','8 ° c son 46.4 ° f','10 ° c son 50.0 ° f','13 ° c son 55.4 ° f']\n",
    "        \n",
    "        \n",
    "        self.assertEqual(grados,grados_esperados)\n",
    "        self.assertEqual(mensajes,mensajes_esperados)\n",
    "        \n",
    "reload(M)\n",
    "\n",
    "unittest.main(argv=[''],verbosity=2,exit=False)"
   ]
  },
  {
   "attachments": {},
   "cell_type": "markdown",
   "metadata": {},
   "source": [
    "8) Agregar casos de pruebas para el método factorial()"
   ]
  },
  {
   "cell_type": "code",
   "execution_count": 115,
   "metadata": {},
   "outputs": [
    {
     "name": "stderr",
     "output_type": "stream",
     "text": [
      "test_primos (__main__.Pruebaprimos.test_primos) ... ok\n",
      "test_creacionobjetocorrecta (__main__.Testcasos.test_creacionobjetocorrecta) ... ok\n",
      "test_creacionobjetoincorrecta (__main__.Testcasos.test_creacionobjetoincorrecta) ... ok\n",
      "test_moda (__main__.Testcasos.test_moda) ... ok\n",
      "test_convgrados (__main__.testconversiongrados.test_convgrados) ... ok\n",
      "test_factorial (__main__.testfactorial.test_factorial) ... ok\n",
      "\n",
      "----------------------------------------------------------------------\n",
      "Ran 6 tests in 0.014s\n",
      "\n",
      "OK\n"
     ]
    },
    {
     "data": {
      "text/plain": [
       "<unittest.main.TestProgram at 0x1b9755503d0>"
      ]
     },
     "execution_count": 115,
     "metadata": {},
     "output_type": "execute_result"
    }
   ],
   "source": [
    "class testfactorial(unittest.TestCase):\n",
    "    def test_factorial(self):\n",
    "        lista = [2,3,8,10,13]\n",
    "        M5=M.Op_Mates(lista)\n",
    "        factorial, mensajes = M5.factorial()\n",
    "        \n",
    "        factorial_esperado = [2, 6, 40320, 3628800, 6227020800]\n",
    "        mensajes_esperados = ['El factorial de 2 es 2', 'El factorial de 3 es 6', 'El factorial de 8 es 40320', 'El factorial de 10 es 3628800', 'El factorial de 13 es 6227020800']\n",
    "        \n",
    "        \n",
    "        self.assertEqual(factorial,factorial_esperado)\n",
    "        self.assertEqual(mensajes,mensajes_esperados)\n",
    "        \n",
    "\n",
    "reload(M)\n",
    "\n",
    "unittest.main(argv=[''],verbosity=2,exit=False)"
   ]
  }
 ],
 "metadata": {
  "interpreter": {
   "hash": "c85384e4cb51c8b72350f3a8712cc8351fdc3955e32a27f9b60c6242ab125f01"
  },
  "kernelspec": {
   "display_name": "Python 3 (ipykernel)",
   "language": "python",
   "name": "python3"
  },
  "language_info": {
   "codemirror_mode": {
    "name": "ipython",
    "version": 3
   },
   "file_extension": ".py",
   "mimetype": "text/x-python",
   "name": "python",
   "nbconvert_exporter": "python",
   "pygments_lexer": "ipython3",
   "version": "3.11.6"
  }
 },
 "nbformat": 4,
 "nbformat_minor": 4
}
