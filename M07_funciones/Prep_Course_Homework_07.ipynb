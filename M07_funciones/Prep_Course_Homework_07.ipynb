{
 "cells": [
  {
   "attachments": {},
   "cell_type": "markdown",
   "metadata": {},
   "source": [
    "## Funciones"
   ]
  },
  {
   "attachments": {},
   "cell_type": "markdown",
   "metadata": {},
   "source": [
    "1) Crear una función que reciba un número como parámetro y devuelva True si es primo y False si no lo es"
   ]
  },
  {
   "cell_type": "code",
   "execution_count": 6,
   "metadata": {},
   "outputs": [
    {
     "name": "stdout",
     "output_type": "stream",
     "text": [
      "True\n"
     ]
    }
   ],
   "source": [
    "def num_primo(x):\n",
    "    primo=True\n",
    "    for i in range(2,x):\n",
    "        if x % i == 0:\n",
    "            primo=False\n",
    "            break\n",
    "    return primo\n",
    "\n",
    "print(num_primo(19))\n"
   ]
  },
  {
   "attachments": {},
   "cell_type": "markdown",
   "metadata": {},
   "source": [
    "2) Utilizando la función del punto 1, realizar otra función que reciba de parámetro una lista de números y devuelva sólo aquellos que son primos en otra lista"
   ]
  },
  {
   "cell_type": "code",
   "execution_count": 10,
   "metadata": {},
   "outputs": [
    {
     "data": {
      "text/plain": [
       "[1, 2, 3, 5, 7, 11, 13, 17, 19, 23]"
      ]
     },
     "execution_count": 10,
     "metadata": {},
     "output_type": "execute_result"
    }
   ],
   "source": [
    "def lista_primo(lis):\n",
    "    lista_1=[]\n",
    "    for i in lis:\n",
    "        if num_primo(i) == True:\n",
    "            lista_1.append(i)\n",
    "        \n",
    "    return lista_1\n",
    "\n",
    "lista_primo([1,2,3,4,5,6,7,8,9,10,11,12,13,14,15,16,17,18,19,20,21,22,23])\n"
   ]
  },
  {
   "attachments": {},
   "cell_type": "markdown",
   "metadata": {},
   "source": [
    "3) Crear una función que al recibir una lista de números, devuelva el que más se repite y cuántas veces lo hace. Si hay más de un \"más repetido\", que devuelva cualquiera"
   ]
  },
  {
   "cell_type": "code",
   "execution_count": 15,
   "metadata": {},
   "outputs": [
    {
     "name": "stdout",
     "output_type": "stream",
     "text": [
      "(7, 4)\n"
     ]
    }
   ],
   "source": [
    "def num_repetido(lis):\n",
    "    frecuencia = {}\n",
    "    for i in lis:\n",
    "        if i in frecuencia:\n",
    "            frecuencia[i] += 1\n",
    "        else:\n",
    "            frecuencia[i] = 1\n",
    "            \n",
    "    mas_repetido = None\n",
    "    rep = 0\n",
    "\n",
    "    for i, frecuencia in frecuencia.items():\n",
    "        if frecuencia > rep:\n",
    "            mas_repetido = i\n",
    "            rep = frecuencia\n",
    "            \n",
    "    return mas_repetido, rep\n",
    "\n",
    "nums = [1,11,11,1,11,2,5,5,5,4,8,7,7,7,7]\n",
    "print(num_repetido(nums))"
   ]
  },
  {
   "attachments": {},
   "cell_type": "markdown",
   "metadata": {},
   "source": [
    "4) Crear una función que convierta entre grados Celsius, Farenheit y Kelvin<br>\n",
    "Fórmula 1\t: (°C × 9/5) + 32 = °F<br>\n",
    "Fórmula 2\t: °C + 273.15 = °K<br>\n",
    "Debe recibir 3 parámetros: el valor, la medida de orígen y la medida de destino\n"
   ]
  },
  {
   "cell_type": "code",
   "execution_count": 5,
   "metadata": {},
   "outputs": [
    {
     "name": "stdout",
     "output_type": "stream",
     "text": [
      "1073.15\n"
     ]
    }
   ],
   "source": [
    "def convertir_temperatura(valor,medidai,medidaf):\n",
    "    '''Convierte el valor de temperatura de una unidad de medida a otra'''\n",
    "    \n",
    "    if (medidai == 'c' or medidai == 'C') and (medidaf == 'f' or medidaf == 'F'):\n",
    "        GC = (valor * 9/5) + 32\n",
    "    elif (medidai == 'c' or medidai == 'C') and (medidaf == 'k' or medidaf == 'K'):\n",
    "        GC = valor + 273.15\n",
    "    elif (medidai == 'f' or medidai == 'F') and (medidaf == 'c' or medidaf == 'C'):\n",
    "        GC = (valor - 32) * 5/9\n",
    "    elif (medidai == 'k' or medidai == 'K') and (medidaf == 'c' or medidaf == 'C'):\n",
    "        GC = valor - 273.15\n",
    "    return GC\n",
    "\n",
    "print(convertir_temperatura(800,'c','k'))\n"
   ]
  },
  {
   "attachments": {},
   "cell_type": "markdown",
   "metadata": {},
   "source": [
    "5) Iterando una lista con los tres valores posibles de temperatura que recibe la función del punto 5, hacer un print para cada combinación de los mismos:"
   ]
  },
  {
   "cell_type": "code",
   "execution_count": 6,
   "metadata": {},
   "outputs": [
    {
     "name": "stdout",
     "output_type": "stream",
     "text": [
      "323.15\n",
      "333.15\n",
      "353.15\n"
     ]
    }
   ],
   "source": [
    "temperaturas = [50, 60, 80]\n",
    "for i in temperaturas:\n",
    "    print(convertir_temperatura(i,'c','k'))"
   ]
  },
  {
   "attachments": {},
   "cell_type": "markdown",
   "metadata": {},
   "source": [
    "6) Armar una función que devuelva el factorial de un número. Tener en cuenta que el usuario puede equivocarse y enviar de parámetro un número no entero o negativo"
   ]
  },
  {
   "cell_type": "code",
   "execution_count": 30,
   "metadata": {},
   "outputs": [
    {
     "name": "stdout",
     "output_type": "stream",
     "text": [
      "El factorial de  5.2  es:  Inválido!, ingrese solo números enteros\n",
      "El factorial de  -5  es:  Inválido!, ingrese solo números positivos\n",
      "El factorial de  5  es:  120\n"
     ]
    }
   ],
   "source": [
    "def factorial(numero):\n",
    "    if type(numero) == int:\n",
    "        \n",
    "        if (numero < 0):\n",
    "            return 'Inválido!, ingrese solo números positivos'\n",
    "        if (numero <= 1):\n",
    "            return 1\n",
    "                \n",
    "        fact = numero * factorial(numero - 1)\n",
    "        return fact\n",
    "    else:\n",
    "        return 'Inválido!, ingrese solo números enteros'\n",
    "        \n",
    "    \n",
    "    \n",
    "num = 5.2\n",
    "num_1 = -5\n",
    "num_2 = 5   \n",
    "\n",
    "print('El factorial de ', num, ' es: ', factorial(num))\n",
    "print('El factorial de ', num_1, ' es: ', factorial(num_1))\n",
    "print('El factorial de ', num_2, ' es: ', factorial(num_2))"
   ]
  }
 ],
 "metadata": {
  "interpreter": {
   "hash": "c85384e4cb51c8b72350f3a8712cc8351fdc3955e32a27f9b60c6242ab125f01"
  },
  "kernelspec": {
   "display_name": "Python 3 (ipykernel)",
   "language": "python",
   "name": "python3"
  },
  "language_info": {
   "codemirror_mode": {
    "name": "ipython",
    "version": 3
   },
   "file_extension": ".py",
   "mimetype": "text/x-python",
   "name": "python",
   "nbconvert_exporter": "python",
   "pygments_lexer": "ipython3",
   "version": "3.11.6"
  }
 },
 "nbformat": 4,
 "nbformat_minor": 4
}
