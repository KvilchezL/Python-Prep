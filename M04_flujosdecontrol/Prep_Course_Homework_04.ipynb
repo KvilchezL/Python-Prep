{
 "cells": [
  {
   "attachments": {},
   "cell_type": "markdown",
   "metadata": {},
   "source": [
    "## Flujos de Control"
   ]
  },
  {
   "attachments": {},
   "cell_type": "markdown",
   "metadata": {},
   "source": [
    "1) Crear una variable que contenga un elemento del conjunto de números enteros y luego imprimir por pantalla si es mayor o menor a cero"
   ]
  },
  {
   "cell_type": "code",
   "execution_count": 10,
   "metadata": {},
   "outputs": [
    {
     "name": "stdout",
     "output_type": "stream",
     "text": [
      "El número  -5  es menor que cero\n"
     ]
    }
   ],
   "source": [
    "var=-5\n",
    "if var<0:\n",
    "    print('El número ', var ,' es menor que cero')\n",
    "elif var>0:\n",
    "    print('El número ', var ,' es mayor que cero')\n",
    "else:\n",
    "    print('El número ', var ,' es igual que cero')"
   ]
  },
  {
   "attachments": {},
   "cell_type": "markdown",
   "metadata": {},
   "source": [
    "2) Crear dos variables y un condicional que informe si son del mismo tipo de dato"
   ]
  },
  {
   "cell_type": "code",
   "execution_count": 11,
   "metadata": {},
   "outputs": [
    {
     "name": "stdout",
     "output_type": "stream",
     "text": [
      "Las variables no son del mismo tipo\n",
      "<class 'int'> <class 'str'>\n"
     ]
    }
   ],
   "source": [
    "var1=5\n",
    "var2='5'\n",
    "if type(var1)==type(var2):\n",
    "    print(var1,' y ',var2,' son del mismo tipo')\n",
    "    print(type(var1),type(var2))\n",
    "else:\n",
    "    print('Las variables no son del mismo tipo')\n",
    "    print(type(var1),type(var2))"
   ]
  },
  {
   "attachments": {},
   "cell_type": "markdown",
   "metadata": {},
   "source": [
    "3) Para los valores enteros del 1 al 20, imprimir por pantalla si es par o impar"
   ]
  },
  {
   "cell_type": "code",
   "execution_count": 7,
   "metadata": {},
   "outputs": [
    {
     "name": "stdout",
     "output_type": "stream",
     "text": [
      "1 :\n",
      "      1  es número impar\n",
      "2 :\n",
      "      2  es número par\n",
      "3 :\n",
      "      3  es número impar\n",
      "4 :\n",
      "      4  es número par\n",
      "5 :\n",
      "      5  es número impar\n",
      "6 :\n",
      "      6  es número par\n",
      "7 :\n",
      "      7  es número impar\n",
      "8 :\n",
      "      8  es número par\n",
      "9 :\n",
      "      9  es número impar\n",
      "10 :\n",
      "      10  es número par\n",
      "11 :\n",
      "      11  es número impar\n",
      "12 :\n",
      "      12  es número par\n",
      "13 :\n",
      "      13  es número impar\n",
      "14 :\n",
      "      14  es número par\n",
      "15 :\n",
      "      15  es número impar\n",
      "16 :\n",
      "      16  es número par\n",
      "17 :\n",
      "      17  es número impar\n",
      "18 :\n",
      "      18  es número par\n",
      "19 :\n",
      "      19  es número impar\n",
      "20 :\n",
      "      20  es número par\n"
     ]
    }
   ],
   "source": [
    "i=1\n",
    "while i < 21 :\n",
    "    print(i,':')\n",
    "    if i%2==0:\n",
    "        print('     ',i,' es número par')\n",
    "    else:\n",
    "        print('     ',i, ' es número impar')\n",
    "    i += 1"
   ]
  },
  {
   "attachments": {},
   "cell_type": "markdown",
   "metadata": {},
   "source": [
    "4) En un ciclo for mostrar para los valores entre 0 y 5 el resultado de elevarlo a la potencia igual a 3"
   ]
  },
  {
   "cell_type": "code",
   "execution_count": 13,
   "metadata": {},
   "outputs": [
    {
     "name": "stdout",
     "output_type": "stream",
     "text": [
      "1 :\n",
      "     0  elevado al cubo es:  0\n",
      "2 :\n",
      "     1  elevado al cubo es:  1\n",
      "3 :\n",
      "     2  elevado al cubo es:  8\n",
      "4 :\n",
      "     3  elevado al cubo es:  27\n",
      "5 :\n",
      "     4  elevado al cubo es:  64\n",
      "6 :\n",
      "     5  elevado al cubo es:  125\n"
     ]
    }
   ],
   "source": [
    "num=0\n",
    "for num in range(0,6):\n",
    "    print(num+1,':')\n",
    "    print('    ',num,' elevado al cubo es: ', num**3)\n",
    "    num+=1"
   ]
  },
  {
   "attachments": {},
   "cell_type": "markdown",
   "metadata": {},
   "source": [
    "5) Crear una variable que contenga un número entero y realizar un ciclo for la misma cantidad de ciclos"
   ]
  },
  {
   "cell_type": "code",
   "execution_count": 18,
   "metadata": {},
   "outputs": [
    {
     "name": "stdout",
     "output_type": "stream",
     "text": [
      "0\n",
      "1\n",
      "2\n",
      "3\n",
      "4\n",
      "5\n"
     ]
    }
   ],
   "source": [
    "entero=6\n",
    "for i in range(0,entero):\n",
    "    print(i)#pass\n",
    "#print(i)"
   ]
  },
  {
   "attachments": {},
   "cell_type": "markdown",
   "metadata": {},
   "source": [
    "6) Utilizar un ciclo while para realizar el factorial de un número guardado en una variable, sólo si la variable contiene un número entero mayor a 0"
   ]
  },
  {
   "cell_type": "code",
   "execution_count": 37,
   "metadata": {},
   "outputs": [
    {
     "name": "stdout",
     "output_type": "stream",
     "text": [
      "El factorial de  6  es:  720\n"
     ]
    }
   ],
   "source": [
    "var1=6\n",
    "var2=var1\n",
    "var3=var1\n",
    "if type(var1)==int:\n",
    "    if (var1>0):\n",
    "        while var1>1:\n",
    "            var2=var2*(var1-1)\n",
    "            var1-=1\n",
    "        print('El factorial de ',var3,' es: ',var2)\n",
    "    else:\n",
    "        print('El factorial de ', var1, ' es 1')\n",
    "else:\n",
    "    print('Las condiciónes no se cumplen')"
   ]
  },
  {
   "attachments": {},
   "cell_type": "markdown",
   "metadata": {},
   "source": [
    "7) Crear un ciclo for dentro de un ciclo while"
   ]
  },
  {
   "cell_type": "code",
   "execution_count": 46,
   "metadata": {},
   "outputs": [
    {
     "name": "stdout",
     "output_type": "stream",
     "text": [
      "0\n",
      "1\n",
      "2\n",
      "3\n",
      "4\n",
      "5\n",
      "6\n",
      "7\n",
      "8\n",
      "9\n",
      "10\n",
      "11\n",
      "12\n",
      "13\n",
      "14\n",
      "---Fin---\n"
     ]
    }
   ],
   "source": [
    "cant=0\n",
    "while (cant<15):\n",
    "    \n",
    "    for i in range(1,16):\n",
    "        print(cant)\n",
    "        cant=i\n",
    "print('---Fin---')"
   ]
  },
  {
   "attachments": {},
   "cell_type": "markdown",
   "metadata": {},
   "source": [
    "8) Crear un ciclo while dentro de un ciclo for"
   ]
  },
  {
   "cell_type": "code",
   "execution_count": 49,
   "metadata": {},
   "outputs": [
    {
     "name": "stdout",
     "output_type": "stream",
     "text": [
      "1 :\n",
      "     0\n",
      "     1\n",
      "     2\n",
      "     3\n",
      "     4\n",
      "2 :\n",
      "     1\n",
      "     2\n",
      "     3\n",
      "     4\n",
      "3 :\n",
      "     2\n",
      "     3\n",
      "     4\n",
      "4 :\n",
      "     3\n",
      "     4\n",
      "5 :\n",
      "     4\n",
      "6 :\n",
      "---Fin---\n"
     ]
    }
   ],
   "source": [
    "for i in range(0,6):\n",
    "    print(i+1,':')\n",
    "    while (i<5):\n",
    "        print('    ',i)\n",
    "        i+=1\n",
    "print('---Fin---')\n",
    "    "
   ]
  },
  {
   "attachments": {},
   "cell_type": "markdown",
   "metadata": {},
   "source": [
    "9) Imprimir los números primos existentes entre 0 y 30"
   ]
  },
  {
   "cell_type": "code",
   "execution_count": 3,
   "metadata": {},
   "outputs": [
    {
     "name": "stdout",
     "output_type": "stream",
     "text": [
      "0  es primo\n",
      "1  es primo\n",
      "2  es primo\n",
      "3  es primo\n",
      "5  es primo\n",
      "7  es primo\n",
      "11  es primo\n",
      "13  es primo\n",
      "17  es primo\n",
      "19  es primo\n",
      "23  es primo\n",
      "29  es primo\n",
      "---Fin---\n"
     ]
    }
   ],
   "source": [
    "primo=True\n",
    "n=0\n",
    "while (n<30):\n",
    "    for i in range(2,n):\n",
    "        if n%i==0:\n",
    "            primo=False\n",
    "    if primo:\n",
    "        print(n,' es primo')\n",
    "    else:\n",
    "        primo=True\n",
    "    n+=1\n",
    "print('---Fin---')"
   ]
  },
  {
   "attachments": {},
   "cell_type": "markdown",
   "metadata": {},
   "source": [
    "10) ¿Se puede mejorar el proceso del punto 9? Utilizar las sentencias break y/ó continue para tal fin"
   ]
  },
  {
   "cell_type": "code",
   "execution_count": 10,
   "metadata": {},
   "outputs": [
    {
     "name": "stdout",
     "output_type": "stream",
     "text": [
      "1 :    0  es primo\n",
      "2 :    1  es primo\n",
      "3 :    2  es primo\n",
      "4 :    3  es primo\n",
      "5 :    5  es primo\n",
      "6 :    7  es primo\n",
      "7 :    11  es primo\n",
      "8 :    13  es primo\n",
      "9 :    17  es primo\n",
      "10 :    19  es primo\n",
      "11 :    23  es primo\n",
      "12 :    29  es primo\n",
      "---Fin---\n"
     ]
    }
   ],
   "source": [
    "primo=True\n",
    "n=0\n",
    "n1=1\n",
    "while (n<30):\n",
    "    \n",
    "    for i in range(2,n):\n",
    "        if n%i==0:\n",
    "            primo=False\n",
    "            break\n",
    "    if primo:\n",
    "        print(n1,':   ',n,' es primo')\n",
    "        n1+=1\n",
    "        \n",
    "    else:\n",
    "        primo=True\n",
    "    n+=1\n",
    "print('---Fin---')"
   ]
  },
  {
   "attachments": {},
   "cell_type": "markdown",
   "metadata": {},
   "source": [
    "11) En los puntos 9 y 10, se diseño un código que encuentra números primos y además se lo optimizó. ¿Es posible saber en qué medida se optimizó?"
   ]
  },
  {
   "cell_type": "code",
   "execution_count": 14,
   "metadata": {},
   "outputs": [
    {
     "name": "stdout",
     "output_type": "stream",
     "text": [
      "0  es primo\n",
      "1  es primo\n",
      "2  es primo\n",
      "3  es primo\n",
      "5  es primo\n",
      "7  es primo\n",
      "11  es primo\n",
      "13  es primo\n",
      "17  es primo\n",
      "19  es primo\n",
      "23  es primo\n",
      "29  es primo\n",
      "Ciclos realizados sin usar break:  46\n",
      "---Fin---\n"
     ]
    }
   ],
   "source": [
    "primo=True\n",
    "n=0\n",
    "ciclos_sbreak=0\n",
    "while (n<30):\n",
    "    for i in range(2,n):\n",
    "        if n%i==0:\n",
    "            primo=False\n",
    "            ciclos_sbreak+=1\n",
    "    if primo:\n",
    "        print(n,' es primo')\n",
    "    else:\n",
    "        primo=True\n",
    "    n+=1\n",
    "print('Ciclos realizados sin usar break: ',ciclos_sbreak)\n",
    "print('---Fin---')"
   ]
  },
  {
   "cell_type": "code",
   "execution_count": 16,
   "metadata": {},
   "outputs": [
    {
     "name": "stdout",
     "output_type": "stream",
     "text": [
      "1 :    0  es primo\n",
      "2 :    1  es primo\n",
      "3 :    2  es primo\n",
      "4 :    3  es primo\n",
      "5 :    5  es primo\n",
      "6 :    7  es primo\n",
      "7 :    11  es primo\n",
      "8 :    13  es primo\n",
      "9 :    17  es primo\n",
      "10 :    19  es primo\n",
      "11 :    23  es primo\n",
      "12 :    29  es primo\n",
      "Ciclos realizados usando break:  18\n",
      "Se mejoró  0.391304347826087  % usando break\n",
      "---Fin---\n"
     ]
    }
   ],
   "source": [
    "primo=True\n",
    "n=0\n",
    "n1=1\n",
    "ciclos_cbreak=0\n",
    "while (n<30):\n",
    "    \n",
    "    for i in range(2,n):\n",
    "        if n%i==0:\n",
    "            primo=False\n",
    "            ciclos_cbreak+=1\n",
    "            break\n",
    "    if primo:\n",
    "        print(n1,':   ',n,' es primo')\n",
    "        n1+=1\n",
    "        \n",
    "    else:\n",
    "        primo=True\n",
    "    n+=1\n",
    "print('Ciclos realizados usando break: ',ciclos_cbreak)\n",
    "print('Se mejoró ',ciclos_cbreak/ciclos_sbreak,' % usando break')\n",
    "print('---Fin---')"
   ]
  },
  {
   "attachments": {},
   "cell_type": "markdown",
   "metadata": {},
   "source": [
    "12) Aplicando continue, armar un ciclo while que solo imprima los valores divisibles por 12, dentro del rango de números de 100 a 300"
   ]
  },
  {
   "cell_type": "code",
   "execution_count": 24,
   "metadata": {},
   "outputs": [
    {
     "name": "stdout",
     "output_type": "stream",
     "text": [
      "1  :    108  es divisible por 12\n",
      "2  :    120  es divisible por 12\n",
      "3  :    132  es divisible por 12\n",
      "4  :    144  es divisible por 12\n",
      "5  :    156  es divisible por 12\n",
      "6  :    168  es divisible por 12\n",
      "7  :    180  es divisible por 12\n",
      "8  :    192  es divisible por 12\n",
      "9  :    204  es divisible por 12\n",
      "10  :    216  es divisible por 12\n",
      "11  :    228  es divisible por 12\n",
      "12  :    240  es divisible por 12\n",
      "13  :    252  es divisible por 12\n",
      "14  :    264  es divisible por 12\n",
      "15  :    276  es divisible por 12\n",
      "16  :    288  es divisible por 12\n",
      "17  :    300  es divisible por 12\n"
     ]
    }
   ],
   "source": [
    "div_12=99\n",
    "n=1\n",
    "while (div_12<=300):\n",
    "    div_12+=1\n",
    "    if (div_12%12!=0):\n",
    "        \n",
    "        continue\n",
    "    print(n,' :   ',div_12, ' es divisible por 12')\n",
    "    n+=1\n",
    "        \n",
    "   "
   ]
  },
  {
   "attachments": {},
   "cell_type": "markdown",
   "metadata": {},
   "source": [
    "13) Utilizar la función **input()** que permite hacer ingresos por teclado, para encontrar números primos y dar la opción al usario de buscar el siguiente"
   ]
  },
  {
   "cell_type": "code",
   "execution_count": 29,
   "metadata": {},
   "outputs": [
    {
     "name": "stdout",
     "output_type": "stream",
     "text": [
      "1  es primo\n",
      " \n",
      "¿Encontrar el siguiente número primo? s/n\n",
      "2  es primo\n",
      " \n",
      "¿Encontrar el siguiente número primo? s/n\n",
      "3  es primo\n",
      " \n",
      "¿Encontrar el siguiente número primo? s/n\n",
      "5  es primo\n",
      " \n",
      "¿Encontrar el siguiente número primo? s/n\n",
      "7  es primo\n",
      " \n",
      "¿Encontrar el siguiente número primo? s/n\n",
      "11  es primo\n",
      " \n",
      "¿Encontrar el siguiente número primo? s/n\n",
      "13  es primo\n",
      " \n",
      "¿Encontrar el siguiente número primo? s/n\n",
      "17  es primo\n",
      " \n",
      "¿Encontrar el siguiente número primo? s/n\n",
      "19  es primo\n",
      " \n",
      "¿Encontrar el siguiente número primo? s/n\n",
      "23  es primo\n",
      " \n",
      "¿Encontrar el siguiente número primo? s/n\n",
      "Proceso finalizado\n",
      "---Fin---\n"
     ]
    }
   ],
   "source": [
    "n=1\n",
    "cont='s'            #para continuar se utiliza el string 's'\n",
    "primo=True\n",
    "while cont=='s':\n",
    "    for i in range(2,n):\n",
    "        if n%i==0:\n",
    "            primo=False\n",
    "            break\n",
    "    if primo:\n",
    "        print(n,' es primo')\n",
    "        print(' ')\n",
    "        print('¿Encontrar el siguiente número primo? s/n')\n",
    "        if input() != 's':\n",
    "            print('Proceso finalizado')\n",
    "            break\n",
    "    else:\n",
    "        primo=True\n",
    "    n+=1\n",
    "print('---Fin---')"
   ]
  },
  {
   "attachments": {},
   "cell_type": "markdown",
   "metadata": {},
   "source": [
    "14) Crear un ciclo while que encuentre dentro del rango de 100 a 300 el primer número divisible por 3 y además múltiplo de 6"
   ]
  },
  {
   "cell_type": "code",
   "execution_count": 30,
   "metadata": {},
   "outputs": [
    {
     "name": "stdout",
     "output_type": "stream",
     "text": [
      "El número divisible por 3 y multiplo de 6 es:  102\n",
      "---Fin---\n"
     ]
    }
   ],
   "source": [
    "n=100\n",
    "while n < 300:\n",
    "    if (n%3==0) and (n%6==0):\n",
    "        print('El número divisible por 3 y multiplo de 6 es: ', n)\n",
    "        break\n",
    "    n+=1\n",
    "print('---Fin---')"
   ]
  }
 ],
 "metadata": {
  "interpreter": {
   "hash": "c85384e4cb51c8b72350f3a8712cc8351fdc3955e32a27f9b60c6242ab125f01"
  },
  "kernelspec": {
   "display_name": "Python 3 (ipykernel)",
   "language": "python",
   "name": "python3"
  },
  "language_info": {
   "codemirror_mode": {
    "name": "ipython",
    "version": 3
   },
   "file_extension": ".py",
   "mimetype": "text/x-python",
   "name": "python",
   "nbconvert_exporter": "python",
   "pygments_lexer": "ipython3",
   "version": "3.11.5"
  }
 },
 "nbformat": 4,
 "nbformat_minor": 4
}
